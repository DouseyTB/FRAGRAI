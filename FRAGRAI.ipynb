{
 "cells": [
  {
   "cell_type": "markdown",
   "id": "3d2c030b",
   "metadata": {},
   "source": [
    "<b><p style=\"text-align:center;\"> PROJET FRAGRAI </p></b>"
   ]
  },
  {
   "cell_type": "markdown",
   "id": "6267e8f8",
   "metadata": {},
   "source": [
    "<b><p style=\"color:blue;font-size:50px;\">Importation </p></b>"
   ]
  },
  {
   "cell_type": "code",
   "execution_count": 1,
   "id": "586c2d45",
   "metadata": {},
   "outputs": [],
   "source": [
    "import pandas as pd\n",
    "import numpy as np\n",
    "import seaborn as sns\n",
    "import matplotlib.pyplot as plt\n",
    "import matplotlib\n",
    "import os\n",
    "from collections import Counter\n",
    "import difflib"
   ]
  },
  {
   "cell_type": "code",
   "execution_count": 2,
   "id": "a2d5a77e",
   "metadata": {},
   "outputs": [],
   "source": [
    "#help(matplotlib)\n",
    "#help(pd)\n",
    "#help(sns)\n",
    "#help(np)"
   ]
  },
  {
   "cell_type": "code",
   "execution_count": 3,
   "id": "225760c7",
   "metadata": {},
   "outputs": [],
   "source": [
    "#Liste all the hyperparam,param\n",
    "#list(matplotlib.colors.cnames.keys())\n",
    "#0list(matplotlib.bins.cnames.keys())\n"
   ]
  },
  {
   "cell_type": "markdown",
   "id": "60eb5876",
   "metadata": {},
   "source": [
    "<b><p style=\"color:blue;font-size:50px;\">Load Data </p></b>"
   ]
  },
  {
   "cell_type": "code",
   "execution_count": 4,
   "id": "dcc0714c",
   "metadata": {},
   "outputs": [],
   "source": [
    "#Transform excel to csv\n",
    "read_file = pd.read_excel (r'DataScrap/dataset.xlsx')\n",
    "read_file.to_csv (r'dataset.csv', index = None, header=True)\n",
    "\n",
    "#\n",
    "df=pd.read_csv(\"dataset.csv\", sep=\",\")\n"
   ]
  },
  {
   "cell_type": "code",
   "execution_count": 5,
   "id": "2775dc33",
   "metadata": {},
   "outputs": [
    {
     "data": {
      "text/plain": [
       "51"
      ]
     },
     "execution_count": 5,
     "metadata": {},
     "output_type": "execute_result"
    }
   ],
   "source": [
    "len(\"CI 14700 – CI 19140 – CI 17200 (BROWN 1 REPLACEMENT\")"
   ]
  },
  {
   "cell_type": "markdown",
   "id": "4cc1933a",
   "metadata": {},
   "source": [
    "<b><p style=\"color:blue;size=600\">Data Cleaning </p></b>"
   ]
  },
  {
   "cell_type": "markdown",
   "id": "5e0fd1ba",
   "metadata": {},
   "source": [
    "<b><p style=\"color:green;\">Etape 1 : On a crée une liste poubelle qui regroupe tout les éléments qui ne sont pas des ingrédients et regroupé les éléments qui se ressemble (\"water\" et \"aqua\") (\"Parfum\" et \"Fragrance\") puis on a crée la liste avec le nombre d'occurence </p></b>\n"
   ]
  },
  {
   "cell_type": "code",
   "execution_count": 6,
   "id": "81ea9f2a",
   "metadata": {},
   "outputs": [],
   "source": [
    "\n",
    "liste_corve=[\" CETTE LISTE D'INGR&EACUTE\",\" JOUR\",\" 1)\",\" AVANT D’\",\" 10)\",\" FD&\",\" 40)\",\" 5)\",\"DIENTS ENTRANT DANS LA COMPOSITION DES PRODUITS DE NOTRE MARQUE SONT R&EACUTE\",\" AVANT D'UTILISER UN PRODUIT DE NOTRE MARQUE\",\" VOTRE UTILISATION PERSONNELLE\",\"DA L’ORÉAL REGELMÄßIG NEUE WISSENSCHAFTLICHE ERKENNTNISSE IN DIE PRODUKTFORMULIERUNG EINFLIEßEN LÄSST\",\" KÖNNEN VON EINER REFERENZ VERSCHIEDENE VERSIONEN MIT UNTERSCHIEDLICHEN ZUSAMMENSETZUNGEN IM UMLAUF SEIN\",\"TES INVIT&EACUTE\",\" PARFUM\",\" SIE GELTEN STETS NUR FÜR DAS JEWEILS BEZEICHNETE PRODUKT MIT DER DAZU ANGEGEBENEN PRODUKT-REFERENZNUMMER\",\" PARFUM (FRAGRANCE) AQUA (WATER) BENZYL SALICYLATE LINALOOL HEXYL CINNAMAL HYDROXYCITRONELLAL ALPHA-ISOMETHYL IONONE CITRONELLOL LIMONENE GERANIOL EUGENOL BENZYL BENZOATE BENZYL ALCOHOL CITRAL\",\"DIENTS FIGURANT SUR SON EMBALLAGE AFIN DE VOUS ASSURER QUE LES INGR&EACUTE\",\" LIRE LA LISTE D'INGR&EACUTE\"]\n",
    "def Ccleaner(string):\n",
    "    \"\"\" \n",
    "    Fonction pour clean les mauvais ingrédients\n",
    "    \"\"\"\n",
    "    if (\"AQUA\" in string) or (\"WATER\" in string )or (\"EAU\" in string):\n",
    "        return \"WATER\"\n",
    "    if \"PARFUM\" in string or \"FRAGRANCE\" in string:\n",
    "        liste_corve.append(string)\n",
    "        liste_corve.append(\"PARFUM\")\n",
    "        return \"PARFUM\"\n",
    "    if len(string)<3 or len(string)>60:\n",
    "        liste_corve.append(string)\n",
    "        liste_corve.append(\"NONE\")\n",
    "        return \"NONE\"\n",
    "    else :\n",
    "        return string\n",
    "#Création d'une liste {ingrédient:nbr_occurence}\n",
    "liste_with_all_ingredient=[Ccleaner(ingr) for i in df[\"Ingr\"] for ingr in i.split(\",\")]\n",
    "#liste final clean en fonction de la liste poubelle crée \n",
    "liste_with_all_ingredient_cleaned_=[i for i in liste_with_all_ingredient if i not in liste_corve]"
   ]
  },
  {
   "cell_type": "code",
   "execution_count": 18,
   "id": "b50d36cf",
   "metadata": {},
   "outputs": [
    {
     "data": {
      "text/plain": [
       "(array([ 4.,  5.,  6., 17., 17., 36., 46., 51., 58., 57., 45., 37., 32.,\n",
       "        16., 15., 11.,  3.,  7.,  7.,  2.]),\n",
       " array([ 0.  ,  1.05,  2.1 ,  3.15,  4.2 ,  5.25,  6.3 ,  7.35,  8.4 ,\n",
       "         9.45, 10.5 , 11.55, 12.6 , 13.65, 14.7 , 15.75, 16.8 , 17.85,\n",
       "        18.9 , 19.95, 21.  ]),\n",
       " <BarContainer object of 20 artists>)"
      ]
     },
     "execution_count": 18,
     "metadata": {},
     "output_type": "execute_result"
    },
    {
     "data": {
      "image/png": "[encoded data removed]",
      "text/plain": [
       "<Figure size 432x288 with 1 Axes>"
      ]
     },
     "metadata": {
      "needs_background": "light"
     },
     "output_type": "display_data"
    }
   ],
   "source": [
    "liste_of_occ=Counter(liste_with_all_ingredient_cleaned_)\n",
    "liste_of_occ=sorted(liste_of_occ.items(), key=lambda t: t[1])\n",
    "plt.hist(np.array(liste_of_occ)[:,1],20,color = \"goldenrod\")"
   ]
  },
  {
   "cell_type": "markdown",
   "id": "4d58cd24",
   "metadata": {},
   "source": [
    "<b><p style=\"color:green;\">Etape 2 : On supprime les elements de la poubelle et les elem qui apparaissent moins de 7 fois ( nombre choisi en fonction de l histogramme)</p></b>"
   ]
  },
  {
   "cell_type": "code",
   "execution_count": 27,
   "id": "2b0c52c8",
   "metadata": {},
   "outputs": [],
   "source": [
    "#On kik les elem de moins de 7 et les elem de la liste corve\n",
    "list_elem_to_del=[i[0] for i in liste_of_occ if i[1]<7]+liste_corve\n",
    "list_elem_to_del=list(set(list_elem_to_del))\n",
    "#On supprime les elem\n",
    "df['Ingr']=df['Ingr'].apply(lambda x: \",\".join([i for i in x.split(\",\") if i not in list_elem_to_del]))\n"
   ]
  },
  {
   "cell_type": "code",
   "execution_count": 39,
   "id": "6fa3befd",
   "metadata": {},
   "outputs": [
    {
     "name": "stdout",
     "output_type": "stream",
     "text": [
      "Marque       0\n",
      "Ingr         0\n",
      "Rating       0\n",
      "Reference    0\n",
      "dtype: int64\n",
      "Marque       160\n",
      "Ingr         506\n",
      "Rating        29\n",
      "Reference    505\n",
      "dtype: int64\n",
      "(506, 4)\n"
     ]
    }
   ],
   "source": [
    "print(df.isnull().sum())\n",
    "print(df.nunique())\n",
    "print(df.shape)"
   ]
  },
  {
   "cell_type": "markdown",
   "id": "22e371c3",
   "metadata": {},
   "source": [
    "<b><p style=\"color:blue;font-size:40px;\">Encoding 1 HOT </p></b>"
   ]
  },
  {
   "cell_type": "code",
   "execution_count": 41,
   "id": "82d3a614",
   "metadata": {},
   "outputs": [
    {
     "data": {
      "text/html": [
       "<div>\n",
       "<style scoped>\n",
       "    .dataframe tbody tr th:only-of-type {\n",
       "        vertical-align: middle;\n",
       "    }\n",
       "\n",
       "    .dataframe tbody tr th {\n",
       "        vertical-align: top;\n",
       "    }\n",
       "\n",
       "    .dataframe thead th {\n",
       "        text-align: right;\n",
       "    }\n",
       "</style>\n",
       "<table border=\"1\" class=\"dataframe\">\n",
       "  <thead>\n",
       "    <tr style=\"text-align: right;\">\n",
       "      <th></th>\n",
       "      <th>Marque</th>\n",
       "      <th>Ingr</th>\n",
       "      <th>Rating</th>\n",
       "      <th>Reference</th>\n",
       "    </tr>\n",
       "  </thead>\n",
       "  <tbody>\n",
       "    <tr>\n",
       "      <th>0</th>\n",
       "      <td>Etat Libre dOrange</td>\n",
       "      <td>RICINUS COMMUNIS (CASTOR) SEED OIL, STEARETH-...</td>\n",
       "      <td>2.9</td>\n",
       "      <td>Hermann a Mes Cotes Me Paraissait Une Ombre Ea...</td>\n",
       "    </tr>\n",
       "    <tr>\n",
       "      <th>1</th>\n",
       "      <td>Ted Lapidus</td>\n",
       "      <td>DIMETHICONE, CI 42090 (FD&amp;C BLUE NO, BUTYLPHE...</td>\n",
       "      <td>3.6</td>\n",
       "      <td>Oud Blanc Eau de Parfum mixte</td>\n",
       "    </tr>\n",
       "    <tr>\n",
       "      <th>2</th>\n",
       "      <td>Lancome</td>\n",
       "      <td>\\nCINNAMAL, SODIUM PHOSPHATE, ALPHA-ISOMETHYL...</td>\n",
       "      <td>3.9</td>\n",
       "      <td>La Nuit Tresor Intense Eau de Parfum pour femme</td>\n",
       "    </tr>\n",
       "    <tr>\n",
       "      <th>3</th>\n",
       "      <td>Guess</td>\n",
       "      <td>ALCOHOL DENAT, TOCOPHEROL,#13380 ALCOHOL, HYD...</td>\n",
       "      <td>5.0</td>\n",
       "      <td>Seductive Noir Eau de Toilette pour femme</td>\n",
       "    </tr>\n",
       "    <tr>\n",
       "      <th>4</th>\n",
       "      <td>Pitbull</td>\n",
       "      <td>CI 42090 (BLUE 1), SODIUM HYALURONATE, PPG-15...</td>\n",
       "      <td>4.9</td>\n",
       "      <td>Pitubull Woman Eau de Parfum pour femme</td>\n",
       "    </tr>\n",
       "    <tr>\n",
       "      <th>...</th>\n",
       "      <td>...</td>\n",
       "      <td>...</td>\n",
       "      <td>...</td>\n",
       "      <td>...</td>\n",
       "    </tr>\n",
       "    <tr>\n",
       "      <th>501</th>\n",
       "      <td>Kenzo</td>\n",
       "      <td>PARAFFINUM LIQUIDUM, PEG-90 GLYCERYL ISOSTEAR...</td>\n",
       "      <td>4.0</td>\n",
       "      <td>Flower by Kenzo brume pour cheveux et corps po...</td>\n",
       "    </tr>\n",
       "    <tr>\n",
       "      <th>502</th>\n",
       "      <td>Lolita Lempicka</td>\n",
       "      <td>CI 42090 (BLUE 1),#13877 ALCOHOL, (SD ALCOHOL...</td>\n",
       "      <td>4.5</td>\n",
       "      <td>Lolita Lempicka Mon Premier Parfum Eau de Parf...</td>\n",
       "    </tr>\n",
       "    <tr>\n",
       "      <th>503</th>\n",
       "      <td>Salvador Dali</td>\n",
       "      <td>BUTYROSPERMUM PARKII (SHEA BUTTER), CI 61570 ...</td>\n",
       "      <td>4.0</td>\n",
       "      <td>Sunrise in Cadaques Eau de Toilette pour femme</td>\n",
       "    </tr>\n",
       "    <tr>\n",
       "      <th>504</th>\n",
       "      <td>Halloween</td>\n",
       "      <td>HYDROLYZED CORALLINA OFFICINALIS EXTRACT,DIEN...</td>\n",
       "      <td>4.0</td>\n",
       "      <td>Man Shot Eau de Toilette pour homme</td>\n",
       "    </tr>\n",
       "    <tr>\n",
       "      <th>505</th>\n",
       "      <td>Oriflame</td>\n",
       "      <td>ALCOHOL OF VEGETAL ORIGIN 80% VOL, CALCIUM LA...</td>\n",
       "      <td>3.7</td>\n",
       "      <td>Giordani Gold Essenza parfum pour femme</td>\n",
       "    </tr>\n",
       "  </tbody>\n",
       "</table>\n",
       "<p>506 rows × 4 columns</p>\n",
       "</div>"
      ],
      "text/plain": [
       "                 Marque                                               Ingr  \\\n",
       "0    Etat Libre dOrange   RICINUS COMMUNIS (CASTOR) SEED OIL, STEARETH-...   \n",
       "1           Ted Lapidus   DIMETHICONE, CI 42090 (FD&C BLUE NO, BUTYLPHE...   \n",
       "2               Lancome   \\nCINNAMAL, SODIUM PHOSPHATE, ALPHA-ISOMETHYL...   \n",
       "3                 Guess   ALCOHOL DENAT, TOCOPHEROL,#13380 ALCOHOL, HYD...   \n",
       "4               Pitbull   CI 42090 (BLUE 1), SODIUM HYALURONATE, PPG-15...   \n",
       "..                  ...                                                ...   \n",
       "501               Kenzo   PARAFFINUM LIQUIDUM, PEG-90 GLYCERYL ISOSTEAR...   \n",
       "502     Lolita Lempicka   CI 42090 (BLUE 1),#13877 ALCOHOL, (SD ALCOHOL...   \n",
       "503       Salvador Dali   BUTYROSPERMUM PARKII (SHEA BUTTER), CI 61570 ...   \n",
       "504           Halloween   HYDROLYZED CORALLINA OFFICINALIS EXTRACT,DIEN...   \n",
       "505            Oriflame   ALCOHOL OF VEGETAL ORIGIN 80% VOL, CALCIUM LA...   \n",
       "\n",
       "     Rating                                          Reference  \n",
       "0       2.9  Hermann a Mes Cotes Me Paraissait Une Ombre Ea...  \n",
       "1       3.6                      Oud Blanc Eau de Parfum mixte  \n",
       "2       3.9    La Nuit Tresor Intense Eau de Parfum pour femme  \n",
       "3       5.0          Seductive Noir Eau de Toilette pour femme  \n",
       "4       4.9            Pitubull Woman Eau de Parfum pour femme  \n",
       "..      ...                                                ...  \n",
       "501     4.0  Flower by Kenzo brume pour cheveux et corps po...  \n",
       "502     4.5  Lolita Lempicka Mon Premier Parfum Eau de Parf...  \n",
       "503     4.0     Sunrise in Cadaques Eau de Toilette pour femme  \n",
       "504     4.0                Man Shot Eau de Toilette pour homme  \n",
       "505     3.7            Giordani Gold Essenza parfum pour femme  \n",
       "\n",
       "[506 rows x 4 columns]"
      ]
     },
     "execution_count": 41,
     "metadata": {},
     "output_type": "execute_result"
    }
   ],
   "source": [
    "df"
   ]
  },
  {
   "cell_type": "code",
   "execution_count": null,
   "id": "5cbb89c6",
   "metadata": {},
   "outputs": [],
   "source": []
  }
 ],
 "metadata": {
  "kernelspec": {
   "display_name": "Python 3 (ipykernel)",
   "language": "python",
   "name": "python3"
  },
  "language_info": {
   "codemirror_mode": {
    "name": "ipython",
    "version": 3
   },
   "file_extension": ".py",
   "mimetype": "text/x-python",
   "name": "python",
   "nbconvert_exporter": "python",
   "pygments_lexer": "ipython3",
   "version": "3.9.7"
  }
 },
 "nbformat": 4,
 "nbformat_minor": 5
}
